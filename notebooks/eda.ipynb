{
 "cells": [
  {
   "cell_type": "code",
   "execution_count": 1,
   "metadata": {},
   "outputs": [],
   "source": [
    "from pyspark.sql import SparkSession\n",
    "from pyspark.sql.functions import to_date, cast, avg, sum, count, count_distinct"
   ]
  },
  {
   "cell_type": "code",
   "execution_count": 2,
   "metadata": {},
   "outputs": [
    {
     "name": "stderr",
     "output_type": "stream",
     "text": [
      "Setting default log level to \"WARN\".\n",
      "To adjust logging level use sc.setLogLevel(newLevel). For SparkR, use setLogLevel(newLevel).\n",
      "25/01/02 12:46:28 WARN NativeCodeLoader: Unable to load native-hadoop library for your platform... using builtin-java classes where applicable\n"
     ]
    }
   ],
   "source": [
    "spark = SparkSession.builder.appName(\"Challenge 2\").getOrCreate()"
   ]
  },
  {
   "cell_type": "code",
   "execution_count": 3,
   "metadata": {},
   "outputs": [],
   "source": [
    "df = spark.read.format(\"csv\").option(\"header\", True).load(\"../resources/data.csv\")"
   ]
  },
  {
   "cell_type": "code",
   "execution_count": 5,
   "metadata": {},
   "outputs": [
    {
     "name": "stdout",
     "output_type": "stream",
     "text": [
      "root\n",
      " |-- Row ID: string (nullable = true)\n",
      " |-- Order ID: string (nullable = true)\n",
      " |-- Order Date: string (nullable = true)\n",
      " |-- Ship Date: string (nullable = true)\n",
      " |-- Ship Mode: string (nullable = true)\n",
      " |-- Customer ID: string (nullable = true)\n",
      " |-- Customer Name: string (nullable = true)\n",
      " |-- Segment: string (nullable = true)\n",
      " |-- Country: string (nullable = true)\n",
      " |-- City: string (nullable = true)\n",
      " |-- State: string (nullable = true)\n",
      " |-- Postal Code: string (nullable = true)\n",
      " |-- Region: string (nullable = true)\n",
      " |-- Product ID: string (nullable = true)\n",
      " |-- Category: string (nullable = true)\n",
      " |-- Sub-Category: string (nullable = true)\n",
      " |-- Product Name: string (nullable = true)\n",
      " |-- Sales: string (nullable = true)\n",
      " |-- Quantity: string (nullable = true)\n",
      " |-- Discount: string (nullable = true)\n",
      " |-- Profit: string (nullable = true)\n",
      "\n",
      "+------+--------------+----------+----------+------------+-----------+-------------+--------+-------------+---------+--------+-----------+------+---------------+---------+------------+--------------------+------+--------+--------+-------+\n",
      "|Row ID|      Order ID|Order Date| Ship Date|   Ship Mode|Customer ID|Customer Name| Segment|      Country|     City|   State|Postal Code|Region|     Product ID| Category|Sub-Category|        Product Name| Sales|Quantity|Discount| Profit|\n",
      "+------+--------------+----------+----------+------------+-----------+-------------+--------+-------------+---------+--------+-----------+------+---------------+---------+------------+--------------------+------+--------+--------+-------+\n",
      "|     1|CA-2016-152156| 11/8/2016|11/11/2016|Second Class|   CG-12520|  Claire Gute|Consumer|United States|Henderson|Kentucky|      42420| South|FUR-BO-10001798|Furniture|   Bookcases|Bush Somerset Col...|261.96|       2|       0|41.9136|\n",
      "+------+--------------+----------+----------+------------+-----------+-------------+--------+-------------+---------+--------+-----------+------+---------------+---------+------------+--------------------+------+--------+--------+-------+\n",
      "only showing top 1 row\n",
      "\n"
     ]
    },
    {
     "data": {
      "text/plain": [
       "9994"
      ]
     },
     "execution_count": 5,
     "metadata": {},
     "output_type": "execute_result"
    }
   ],
   "source": [
    "df.printSchema()\n",
    "df.show(1)\n",
    "df.count()"
   ]
  },
  {
   "cell_type": "code",
   "execution_count": 6,
   "metadata": {},
   "outputs": [],
   "source": [
    "df = df.withColumn(\"Order Date\", to_date(df[\"Order Date\"])) \\\n",
    "        .withColumn(\"Sales\", df[\"Sales\"].cast(\"float\")) \\\n",
    "        .withColumn(\"Quantity\", df[\"Quantity\"].cast(\"integer\")) \\\n",
    "        .withColumn(\"Discount\", df[\"Discount\"].cast(\"float\")) \\\n",
    "        .withColumn(\"Profit\", df[\"Profit\"].cast(\"float\"))"
   ]
  },
  {
   "cell_type": "code",
   "execution_count": 7,
   "metadata": {},
   "outputs": [
    {
     "name": "stdout",
     "output_type": "stream",
     "text": [
      "+-------------+----------+------------------+--------------+-----------------+------------+------------+-----------------+-----------------+\n",
      "|      Country|Total Rows|       Total Sales|Total Quantity|     Total Profit|Total Stores|Total Orders|              AOV|              ASV|\n",
      "+-------------+----------+------------------+--------------+-----------------+------------+------------+-----------------+-----------------+\n",
      "|United States|      9994|2272449.8518802524|         57975|285707.6013599336|         793|        5009|453.6733583310546|2865.636635410154|\n",
      "+-------------+----------+------------------+--------------+-----------------+------------+------------+-----------------+-----------------+\n",
      "\n"
     ]
    }
   ],
   "source": [
    "df.groupBy(\"Country\").agg(count(\"*\").alias(\"Total Rows\")\n",
    "                          ,sum(\"Sales\").alias(\"Total Sales\")\n",
    "                          ,sum(\"Quantity\").alias(\"Total Quantity\")\n",
    "                          ,sum(\"Profit\").alias(\"Total Profit\")\n",
    "                          ,count_distinct(\"Customer ID\").alias(\"Total Stores\")\n",
    "                          ,count_distinct(\"Order ID\").alias(\"Total Orders\")\n",
    "                          ,(sum(\"Sales\") / count_distinct(\"Order ID\")).alias(\"AOV\")\n",
    "                          ,(sum(\"Sales\") / count_distinct(\"Customer ID\")).alias(\"ASV\")).show()"
   ]
  }
 ],
 "metadata": {
  "kernelspec": {
   "display_name": "3.11.2",
   "language": "python",
   "name": "python3"
  },
  "language_info": {
   "codemirror_mode": {
    "name": "ipython",
    "version": 3
   },
   "file_extension": ".py",
   "mimetype": "text/x-python",
   "name": "python",
   "nbconvert_exporter": "python",
   "pygments_lexer": "ipython3",
   "version": "3.11.2"
  }
 },
 "nbformat": 4,
 "nbformat_minor": 2
}
